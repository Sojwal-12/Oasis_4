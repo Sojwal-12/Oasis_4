{
 "cells": [
  {
   "cell_type": "code",
   "execution_count": 4,
   "metadata": {},
   "outputs": [
    {
     "ename": "ModuleNotFoundError",
     "evalue": "No module named 'ttkbootstrap'",
     "output_type": "error",
     "traceback": [
      "\u001b[1;31m---------------------------------------------------------------------------\u001b[0m",
      "\u001b[1;31mModuleNotFoundError\u001b[0m                       Traceback (most recent call last)",
      "Cell \u001b[1;32mIn[4], line 5\u001b[0m\n\u001b[0;32m      3\u001b[0m \u001b[38;5;28;01mfrom\u001b[39;00m \u001b[38;5;21;01mtkinter\u001b[39;00m \u001b[38;5;28;01mimport\u001b[39;00m messagebox\n\u001b[0;32m      4\u001b[0m \u001b[38;5;28;01mfrom\u001b[39;00m \u001b[38;5;21;01mPIL\u001b[39;00m \u001b[38;5;28;01mimport\u001b[39;00m Image, ImageTk\n\u001b[1;32m----> 5\u001b[0m \u001b[38;5;28;01mimport\u001b[39;00m \u001b[38;5;21;01mttkbootstrap\u001b[39;00m\n\u001b[0;32m      7\u001b[0m \u001b[38;5;28;01mdef\u001b[39;00m \u001b[38;5;21mget_weather\u001b[39m(city):\n\u001b[0;32m      8\u001b[0m     API_key \u001b[38;5;241m=\u001b[39m \u001b[38;5;124m\"\u001b[39m\u001b[38;5;124m6be19753f287cf7411b28cffc50e82bd\u001b[39m\u001b[38;5;124m\"\u001b[39m\n",
      "\u001b[1;31mModuleNotFoundError\u001b[0m: No module named 'ttkbootstrap'"
     ]
    }
   ],
   "source": [
    "import tkinter as tk\n",
    "import requests\n",
    "from tkinter import messagebox\n",
    "from PIL import Image, ImageTk\n",
    "import ttkbootstrap\n",
    "\n",
    "def get_weather(city):\n",
    "    API_key = \"6be19753f287cf7411b28cffc50e82bd\"\n",
    "    url = f\"https://api.openweathermap.org/data/2.5/weather?q={city}&appid={API_key}\"\n",
    "    res = requests.get(url)\n",
    "    \n",
    "    if res.status_code == 404:\n",
    "        messagebox.showerror(\"Error\",\"City not found\")\n",
    "        return None\n",
    "    \n",
    "    weather = res.jason()\n",
    "    icon_id = weather['weather'][0]['icon']\n",
    "    temperature = weather['main']['temp'] - 273.15\n",
    "    description = weather['weather'][0]['description']\n",
    "    city = weather['name']\n",
    "    country = weather['sys']['country']\n",
    "\n",
    "\n",
    "    icon_url = f\" https://openweathermap.org/img/wn/{icon_id}@2x.png\"\n",
    "    return(icon_url, temperature, description, city, country)\n",
    "\n",
    "\n",
    "\n",
    "def search():\n",
    "    city = city_entry.get()\n",
    "    result = get_weather(city)\n",
    "    if result is None:\n",
    "        return\n",
    "    icon_url, temperature, description, city, country = result\n",
    "    location_label.configure(text=f\"{city}, {country}\")\n",
    "\n",
    "    image = Image.open(requests.get(icon_url, stream=True).raw)\n",
    "    icon = ImageTk.PhotoImage(image)\n",
    "    icon_label.configure(image=icon)\n",
    "    icon_label.image = icon\n",
    "    \n",
    "    temperature_label.congifure(text=f\"Temperature: {temperature:.2f} °C\")\n",
    "    description_label.configure(text=f\"Description: {description}\")\n",
    "\n",
    "\n",
    "\n",
    "\n",
    "\n",
    "root = ttkbootstrap.Window(themename=\"morph\")\n",
    "root.title(\"Weather App\")\n",
    "root.geometry(\"500x500\")\n",
    "\n",
    "city_entry=ttkbootstrap.Entry(root, font=\"Helvetica, 18\")\n",
    "city_entry.pack(pady=10)\n",
    "\n",
    "search_button = ttkbootstrap.Button(root, text=\"Search\", command=search, bootstyle=\"warning\")\n",
    "search_button.pack(pady=10)\n",
    "\n",
    "location_label = tk.Label(root, font=\"Helvetica, 25\")\n",
    "location_label.pack(pady=10)\n",
    "\n",
    "icon_label = tk.Label(root)\n",
    "icon_label.pack()\n",
    "\n",
    "temperature_label = tk.Label(root, font=\"Helvetica, 20\")\n",
    "temperature_label.pack()\n",
    "\n",
    "description_label = tk.Label(root, font=\"Helvetica, 20\")\n",
    "description_label.pack()\n",
    "\n",
    "\n",
    "root.mainloop()\n",
    "\n"
   ]
  }
 ],
 "metadata": {
  "kernelspec": {
   "display_name": "base",
   "language": "python",
   "name": "python3"
  },
  "language_info": {
   "codemirror_mode": {
    "name": "ipython",
    "version": 3
   },
   "file_extension": ".py",
   "mimetype": "text/x-python",
   "name": "python",
   "nbconvert_exporter": "python",
   "pygments_lexer": "ipython3",
   "version": "3.11.3"
  }
 },
 "nbformat": 4,
 "nbformat_minor": 2
}
